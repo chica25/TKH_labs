{
 "cells": [
  {
   "cell_type": "code",
   "execution_count": 1,
   "metadata": {},
   "outputs": [],
   "source": [
    "import numpy as np\n",
    "import statsmodels as stats\n",
    "import matplotlib.pyplot as plt\n",
    "import pandas as pd\n",
    "\n"
   ]
  },
  {
   "cell_type": "code",
   "execution_count": 2,
   "metadata": {},
   "outputs": [],
   "source": [
    "# Generate 2 pairs of 20 datapoints\n",
    "# np.random.normal generates on the following parameters (mean, scale, size of array)\n",
    "# We are making (2, 20) array of data which is 2 columns of 20 datapoints\n",
    "\n",
    "data = np.random.normal(0, 1, (2,20))\n",
    "\n"
   ]
  },
  {
   "cell_type": "code",
   "execution_count": 3,
   "metadata": {},
   "outputs": [
    {
     "data": {
      "text/plain": [
       "array([[ 0.26681777, -0.33056936,  1.61521833,  2.09626981,  1.21572661,\n",
       "        -0.24265457,  0.96283327, -0.93667918,  1.25681185, -1.38887492,\n",
       "        -0.99905089, -0.05064842,  0.06757857,  0.76514618, -0.21606399,\n",
       "         1.0364044 ,  1.30325439, -0.39086944, -3.0745185 , -0.13214378],\n",
       "       [ 0.47632393,  0.40523019, -0.20016792,  1.15210065,  1.08572793,\n",
       "         0.89984979, -0.78983593,  0.29656422, -1.3089385 , -1.51125492,\n",
       "         0.26139839, -1.50245956, -1.31120343,  0.23240589,  1.5645061 ,\n",
       "        -1.70418247, -0.96126066,  1.13190768, -1.65814382,  1.14293106]])"
      ]
     },
     "execution_count": 3,
     "metadata": {},
     "output_type": "execute_result"
    }
   ],
   "source": [
    "# see what the arrays look like\n",
    "# it should be an array that is a list of lists\n",
    "\n",
    "data"
   ]
  },
  {
   "cell_type": "code",
   "execution_count": 5,
   "metadata": {},
   "outputs": [
    {
     "data": {
      "image/png": "[encoded data removed]",
      "text/plain": [
       "<Figure size 640x480 with 1 Axes>"
      ]
     },
     "metadata": {},
     "output_type": "display_data"
    }
   ],
   "source": [
    "# Plot the data using plt.scatter()\n",
    "# Hint: you may need to index the data array!\n",
    "\n",
    "plt.scatter(2, 20)\n",
    "plt.show()"
   ]
  },
  {
   "cell_type": "code",
   "execution_count": 6,
   "metadata": {},
   "outputs": [],
   "source": [
    "# define our x and y using the 2 columns of data \n",
    "x = data[...]\n",
    "y = data[...]"
   ]
  },
  {
   "cell_type": "code",
   "execution_count": null,
   "metadata": {},
   "outputs": [],
   "source": [
    "# do all the necessary calculations to get the correlation coefficient\n",
    "# use either numpy or statistics package\n",
    "# we will leave you to do it on your own and find your own way\n",
    "\n",
    "# Here are some ideas for what you might want to use but these are not the only way!\n",
    "# np.sqrt()\n",
    "# np.mean()\n",
    "# sum()\n",
    "# for loops\n",
    "# range()"
   ]
  },
  {
   "cell_type": "code",
   "execution_count": 7,
   "metadata": {},
   "outputs": [
    {
     "data": {
      "text/html": [
       "<div>\n",
       "<style scoped>\n",
       "    .dataframe tbody tr th:only-of-type {\n",
       "        vertical-align: middle;\n",
       "    }\n",
       "\n",
       "    .dataframe tbody tr th {\n",
       "        vertical-align: top;\n",
       "    }\n",
       "\n",
       "    .dataframe thead th {\n",
       "        text-align: right;\n",
       "    }\n",
       "</style>\n",
       "<table border=\"1\" class=\"dataframe\">\n",
       "  <thead>\n",
       "    <tr style=\"text-align: right;\">\n",
       "      <th></th>\n",
       "      <th>col_1</th>\n",
       "      <th>col_2</th>\n",
       "    </tr>\n",
       "  </thead>\n",
       "  <tbody>\n",
       "    <tr>\n",
       "      <th>0</th>\n",
       "      <td>0.266818</td>\n",
       "      <td>0.476324</td>\n",
       "    </tr>\n",
       "    <tr>\n",
       "      <th>1</th>\n",
       "      <td>-0.330569</td>\n",
       "      <td>0.405230</td>\n",
       "    </tr>\n",
       "    <tr>\n",
       "      <th>2</th>\n",
       "      <td>1.615218</td>\n",
       "      <td>-0.200168</td>\n",
       "    </tr>\n",
       "    <tr>\n",
       "      <th>3</th>\n",
       "      <td>2.096270</td>\n",
       "      <td>1.152101</td>\n",
       "    </tr>\n",
       "    <tr>\n",
       "      <th>4</th>\n",
       "      <td>1.215727</td>\n",
       "      <td>1.085728</td>\n",
       "    </tr>\n",
       "  </tbody>\n",
       "</table>\n",
       "</div>"
      ],
      "text/plain": [
       "      col_1     col_2\n",
       "0  0.266818  0.476324\n",
       "1 -0.330569  0.405230\n",
       "2  1.615218 -0.200168\n",
       "3  2.096270  1.152101\n",
       "4  1.215727  1.085728"
      ]
     },
     "execution_count": 7,
     "metadata": {},
     "output_type": "execute_result"
    }
   ],
   "source": [
    "### Now do it in pandas\n",
    "## We will create the dataframe for you, but pay close attention to how\n",
    "df = pd.DataFrame({'col_1': data[0], 'col_2': data[1]})\n",
    "df.head()"
   ]
  },
  {
   "cell_type": "code",
   "execution_count": 8,
   "metadata": {},
   "outputs": [
    {
     "data": {
      "image/png": "[encoded data removed]",
      "text/plain": [
       "<Figure size 640x480 with 1 Axes>"
      ]
     },
     "metadata": {},
     "output_type": "display_data"
    }
   ],
   "source": [
    "## When plotting a scatterplot, we just choose the name of the columns\n",
    "## Since these are not variables, make sure to write column names as strings\n",
    "\n",
    "df.plot(x= 'col_1', y='col_2', kind='scatter');"
   ]
  },
  {
   "cell_type": "code",
   "execution_count": 9,
   "metadata": {},
   "outputs": [
    {
     "data": {
      "text/html": [
       "<div>\n",
       "<style scoped>\n",
       "    .dataframe tbody tr th:only-of-type {\n",
       "        vertical-align: middle;\n",
       "    }\n",
       "\n",
       "    .dataframe tbody tr th {\n",
       "        vertical-align: top;\n",
       "    }\n",
       "\n",
       "    .dataframe thead th {\n",
       "        text-align: right;\n",
       "    }\n",
       "</style>\n",
       "<table border=\"1\" class=\"dataframe\">\n",
       "  <thead>\n",
       "    <tr style=\"text-align: right;\">\n",
       "      <th></th>\n",
       "      <th>col_1</th>\n",
       "      <th>col_2</th>\n",
       "    </tr>\n",
       "  </thead>\n",
       "  <tbody>\n",
       "    <tr>\n",
       "      <th>col_1</th>\n",
       "      <td>1.000000</td>\n",
       "      <td>0.154697</td>\n",
       "    </tr>\n",
       "    <tr>\n",
       "      <th>col_2</th>\n",
       "      <td>0.154697</td>\n",
       "      <td>1.000000</td>\n",
       "    </tr>\n",
       "  </tbody>\n",
       "</table>\n",
       "</div>"
      ],
      "text/plain": [
       "          col_1     col_2\n",
       "col_1  1.000000  0.154697\n",
       "col_2  0.154697  1.000000"
      ]
     },
     "execution_count": 9,
     "metadata": {},
     "output_type": "execute_result"
    }
   ],
   "source": [
    "# we will use the df.corr() function\n",
    "# it compares the correlaton of each column to other columns\n",
    "# column1 will always have 1.0 correlation to itself (top left, [0,0])\n",
    "# column2 will always have 1.0 correlation to iteself (bottom right, [1,1])\n",
    "\n",
    "\n",
    "## Did you do the math right? Does your correlation match this correlation?\n",
    "\n",
    "df.corr()"
   ]
  },
  {
   "cell_type": "code",
   "execution_count": null,
   "metadata": {},
   "outputs": [],
   "source": []
  }
 ],
 "metadata": {
  "kernelspec": {
   "display_name": "base",
   "language": "python",
   "name": "python3"
  },
  "language_info": {
   "codemirror_mode": {
    "name": "ipython",
    "version": 3
   },
   "file_extension": ".py",
   "mimetype": "text/x-python",
   "name": "python",
   "nbconvert_exporter": "python",
   "pygments_lexer": "ipython3",
   "version": "3.9.18"
  },
  "orig_nbformat": 4
 },
 "nbformat": 4,
 "nbformat_minor": 2
}
